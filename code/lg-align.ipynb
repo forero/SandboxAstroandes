{
 "cells": [
  {
   "cell_type": "code",
   "execution_count": 2,
   "metadata": {},
   "outputs": [],
   "source": [
    "import numpy as np\n",
    "import matplotlib.pyplot as plt"
   ]
  },
  {
   "cell_type": "code",
   "execution_count": 36,
   "metadata": {},
   "outputs": [],
   "source": [
    "def cartesianas(i):\n",
    "    x = np.cos(np.deg2rad(i[0])) * np.sin(np.deg2rad(i[1]))\n",
    "    y = np.sin(np.deg2rad(i[0])) * np.sin(np.deg2rad(i[1]))\n",
    "    z = np.cos(np.deg2rad(i[1]))\n",
    "    return np.array([x,y,z])"
   ]
  },
  {
   "cell_type": "code",
   "execution_count": 44,
   "metadata": {},
   "outputs": [
    {
     "name": "stdout",
     "output_type": "stream",
     "text": [
      "[1.000000e+00 0.000000e+00 6.123234e-17]\n"
     ]
    }
   ],
   "source": [
    "normal_MW = cartesianas([0,90])\n",
    "print(normal_MW)\n",
    "normal_M31 = cartesianas([240,-30])"
   ]
  },
  {
   "cell_type": "code",
   "execution_count": 56,
   "metadata": {},
   "outputs": [],
   "source": [
    "def vector_semieje_mayor(los, normal): \n",
    "    semieje = np.cross(los,normal)\n",
    "    return semieje \n",
    "\n",
    "def angulo(los, normal):\n",
    "    major_axis = vector_semieje_mayor(los, normal) # direccion 3D del eje mayor\n",
    "    cos_angle = np.dot(major_axis, np.array([0,0,1])) # proyeccion del vector anterior con respecto a z\n",
    "    return np.arccos(cos_angle) # angulo del eje mayor con respecto a la direccion los_90"
   ]
  },
  {
   "cell_type": "code",
   "execution_count": 57,
   "metadata": {},
   "outputs": [
    {
     "data": {
      "text/plain": [
       "3.141592653589793"
      ]
     },
     "execution_count": 57,
     "metadata": {},
     "output_type": "execute_result"
    }
   ],
   "source": [
    "angulo(np.array([0,1,0]), normal_M31)\n",
    "angulo(np.array([0,1,0]), normal_MW)"
   ]
  },
  {
   "cell_type": "code",
   "execution_count": 58,
   "metadata": {},
   "outputs": [],
   "source": [
    "n_points = 10000\n",
    "theta = np.random.uniform(0, 2 * np.pi, n_points) \n",
    "phi = np.arccos(np.random.uniform(-1, 1, n_points))\n",
    "x_on = np.cos(theta)*np.sin(phi) \n",
    "y_on = np.sin(theta)*np.sin(phi) \n",
    "z_on = np.cos(phi)\n",
    "\n",
    "angulo_M31 = np.ones(n_points)\n",
    "angulo_MW = np.ones(n_points)"
   ]
  },
  {
   "cell_type": "code",
   "execution_count": 59,
   "metadata": {},
   "outputs": [],
   "source": [
    "for i in range(len(theta)):\n",
    "    los = np.array([x_on[i], y_on[i], z_on[i]])\n",
    "    angulo_M31[i] = angulo(los, normal_M31)\n",
    "    angulo_MW[i] = angulo(los, normal_MW)"
   ]
  },
  {
   "cell_type": "code",
   "execution_count": 60,
   "metadata": {},
   "outputs": [
    {
     "data": {
      "image/png": "[encoded data removed]",
      "text/plain": [
       "<Figure size 432x288 with 1 Axes>"
      ]
     },
     "metadata": {
      "needs_background": "light"
     },
     "output_type": "display_data"
    }
   ],
   "source": [
    "_=plt.hist(np.cos(angulo_MW))"
   ]
  },
  {
   "cell_type": "code",
   "execution_count": 62,
   "metadata": {},
   "outputs": [
    {
     "data": {
      "image/png": "[encoded data removed]",
      "text/plain": [
       "<Figure size 432x288 with 1 Axes>"
      ]
     },
     "metadata": {
      "needs_background": "light"
     },
     "output_type": "display_data"
    }
   ],
   "source": [
    "_=plt.hist(np.cos(angulo_M31))"
   ]
  },
  {
   "cell_type": "code",
   "execution_count": 63,
   "metadata": {},
   "outputs": [
    {
     "data": {
      "image/png": "[encoded data removed]",
      "text/plain": [
       "<Figure size 432x288 with 1 Axes>"
      ]
     },
     "metadata": {
      "needs_background": "light"
     },
     "output_type": "display_data"
    }
   ],
   "source": [
    "_=plt.hist(np.cos(angulo_M31-angulo_MW))"
   ]
  },
  {
   "cell_type": "code",
   "execution_count": null,
   "metadata": {},
   "outputs": [],
   "source": []
  }
 ],
 "metadata": {
  "kernelspec": {
   "display_name": "Python 3",
   "language": "python",
   "name": "python3"
  },
  "language_info": {
   "codemirror_mode": {
    "name": "ipython",
    "version": 3
   },
   "file_extension": ".py",
   "mimetype": "text/x-python",
   "name": "python",
   "nbconvert_exporter": "python",
   "pygments_lexer": "ipython3",
   "version": "3.6.10"
  }
 },
 "nbformat": 4,
 "nbformat_minor": 4
}
